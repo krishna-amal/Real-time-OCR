{
 "cells": [
  {
   "cell_type": "code",
   "execution_count": 9,
   "id": "3fd2aa95",
   "metadata": {},
   "outputs": [],
   "source": [
    "import cv2"
   ]
  },
  {
   "cell_type": "code",
   "execution_count": 10,
   "id": "2963cfd0",
   "metadata": {},
   "outputs": [],
   "source": [
    "import easyocr"
   ]
  },
  {
   "cell_type": "code",
   "execution_count": 11,
   "id": "1346c21e",
   "metadata": {},
   "outputs": [],
   "source": [
    "import pyttsx3"
   ]
  },
  {
   "cell_type": "code",
   "execution_count": 12,
   "id": "396dcea6",
   "metadata": {},
   "outputs": [],
   "source": [
    "# from datetime import datetime\n",
    "# n = datetime.now()      \n",
    "\n",
    "\n",
    "# string=n.strftime(\"%H:%M:%S\")\n",
    "# print(string)"
   ]
  },
  {
   "cell_type": "code",
   "execution_count": 13,
   "id": "139181e1",
   "metadata": {
    "scrolled": true
   },
   "outputs": [
    {
     "name": "stderr",
     "output_type": "stream",
     "text": [
      "CUDA not available - defaulting to CPU. Note: This module is much faster with a GPU.\n"
     ]
    }
   ],
   "source": [
    "reader=easyocr.Reader(['en'])"
   ]
  },
  {
   "cell_type": "code",
   "execution_count": 14,
   "id": "abde873e",
   "metadata": {},
   "outputs": [
    {
     "name": "stdout",
     "output_type": "stream",
     "text": [
      "EVOLVE \n",
      "EVOLVE EDUCATIONAL \n",
      "EVOLVE EDUCATIONAL ROBOTICSKIT \n",
      "EVOLVE EDUCATIONAL ROBOTICSKIT Your Child  crer/ \n",
      "EVOLVE EDUCATIONAL ROBOTICSKIT Your Child  crer/ olve \n",
      "EVOLVE EDUCATIONAL ROBOTICSKIT Your Child  crer/ olve Unleash \n",
      "EVOLVE EDUCATIONAL ROBOTICSKIT Your Child  crer/ olve Unleash botiIcS \n",
      "EVOLVE EDUCATIONAL ROBOTICSKIT Your Child  crer/ olve Unleash botiIcS 1 \n",
      "1 \n",
      "1 1 \n",
      "1 1 H \n",
      "Turning off camera.\n",
      "Camera off.\n",
      "Program ended.\n"
     ]
    }
   ],
   "source": [
    "engine = pyttsx3.init()\n",
    "voices = engine.getProperty('voices')\n",
    "engine.setProperty(\"voice\",voices[1].id)\n",
    "key = cv2. waitKey(1)\n",
    "webcam = cv2.VideoCapture(0)\n",
    "while True:\n",
    "    try:\n",
    "        check, frame = webcam.read()\n",
    "        \n",
    "        results = reader.readtext(frame)\n",
    "        text=''\n",
    "        for result in results:\n",
    "            text += result[1] + \" \"\n",
    "#             cv2.putText(frame,text, org, font, fontScale, color, thickness, cv2.LINE_AA)\n",
    "            print(text)\n",
    "            engine.say(text)\n",
    "            engine.runAndWait()\n",
    "        cv2.imshow(\"Capturing\", frame)\n",
    "        key = cv2.waitKey(1)\n",
    " \n",
    "        if key == ord('q'):\n",
    "            print(\"Turning off camera.\")\n",
    "            webcam.release()\n",
    "            print(\"Camera off.\")\n",
    "            print(\"Program ended.\")\n",
    "            cv2.destroyAllWindows()\n",
    "            break\n",
    "        \n",
    "    except(KeyboardInterrupt):\n",
    "        print(\"Turning off camera.\")\n",
    "        webcam.release()\n",
    "        print(\"Camera off.\")\n",
    "        print(\"Program ended.\")\n",
    "        cv2.destroyAllWindows()\n",
    "        break\n"
   ]
  },
  {
   "cell_type": "code",
   "execution_count": null,
   "id": "9db3caf6",
   "metadata": {},
   "outputs": [],
   "source": []
  },
  {
   "cell_type": "code",
   "execution_count": null,
   "id": "a9b9bd12",
   "metadata": {},
   "outputs": [],
   "source": []
  }
 ],
 "metadata": {
  "kernelspec": {
   "display_name": "Python 3 (ipykernel)",
   "language": "python",
   "name": "python3"
  },
  "language_info": {
   "codemirror_mode": {
    "name": "ipython",
    "version": 3
   },
   "file_extension": ".py",
   "mimetype": "text/x-python",
   "name": "python",
   "nbconvert_exporter": "python",
   "pygments_lexer": "ipython3",
   "version": "3.9.12"
  }
 },
 "nbformat": 4,
 "nbformat_minor": 5
}
